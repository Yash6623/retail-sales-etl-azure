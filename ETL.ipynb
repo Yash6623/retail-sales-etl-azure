{
 "cells": [
  {
   "cell_type": "code",
   "execution_count": 2,
   "id": "e3c91bf9-8829-48cd-a6b4-46ed1c4e297f",
   "metadata": {},
   "outputs": [
    {
     "name": "stdout",
     "output_type": "stream",
     "text": [
      "Requirement already satisfied: pandas in c:\\users\\lenovo\\anaconda3\\lib\\site-packages (2.2.2)\n",
      "Requirement already satisfied: numpy in c:\\users\\lenovo\\anaconda3\\lib\\site-packages (1.26.4)\n",
      "Collecting azure-storage-blob\n",
      "  Downloading azure_storage_blob-12.26.0-py3-none-any.whl.metadata (26 kB)\n",
      "Requirement already satisfied: openpyxl in c:\\users\\lenovo\\anaconda3\\lib\\site-packages (3.1.5)\n",
      "Requirement already satisfied: python-dateutil>=2.8.2 in c:\\users\\lenovo\\anaconda3\\lib\\site-packages (from pandas) (2.9.0.post0)\n",
      "Requirement already satisfied: pytz>=2020.1 in c:\\users\\lenovo\\anaconda3\\lib\\site-packages (from pandas) (2024.1)\n",
      "Requirement already satisfied: tzdata>=2022.7 in c:\\users\\lenovo\\anaconda3\\lib\\site-packages (from pandas) (2023.3)\n",
      "Requirement already satisfied: azure-core>=1.30.0 in c:\\users\\lenovo\\anaconda3\\lib\\site-packages (from azure-storage-blob) (1.35.0)\n",
      "Requirement already satisfied: cryptography>=2.1.4 in c:\\users\\lenovo\\anaconda3\\lib\\site-packages (from azure-storage-blob) (43.0.0)\n",
      "Requirement already satisfied: typing-extensions>=4.6.0 in c:\\users\\lenovo\\anaconda3\\lib\\site-packages (from azure-storage-blob) (4.11.0)\n",
      "Requirement already satisfied: isodate>=0.6.1 in c:\\users\\lenovo\\anaconda3\\lib\\site-packages (from azure-storage-blob) (0.7.2)\n",
      "Requirement already satisfied: et-xmlfile in c:\\users\\lenovo\\anaconda3\\lib\\site-packages (from openpyxl) (1.1.0)\n",
      "Requirement already satisfied: requests>=2.21.0 in c:\\users\\lenovo\\anaconda3\\lib\\site-packages (from azure-core>=1.30.0->azure-storage-blob) (2.32.3)\n",
      "Requirement already satisfied: six>=1.11.0 in c:\\users\\lenovo\\anaconda3\\lib\\site-packages (from azure-core>=1.30.0->azure-storage-blob) (1.16.0)\n",
      "Requirement already satisfied: cffi>=1.12 in c:\\users\\lenovo\\anaconda3\\lib\\site-packages (from cryptography>=2.1.4->azure-storage-blob) (1.17.1)\n",
      "Requirement already satisfied: pycparser in c:\\users\\lenovo\\anaconda3\\lib\\site-packages (from cffi>=1.12->cryptography>=2.1.4->azure-storage-blob) (2.21)\n",
      "Requirement already satisfied: charset-normalizer<4,>=2 in c:\\users\\lenovo\\anaconda3\\lib\\site-packages (from requests>=2.21.0->azure-core>=1.30.0->azure-storage-blob) (3.3.2)\n",
      "Requirement already satisfied: idna<4,>=2.5 in c:\\users\\lenovo\\anaconda3\\lib\\site-packages (from requests>=2.21.0->azure-core>=1.30.0->azure-storage-blob) (3.7)\n",
      "Requirement already satisfied: urllib3<3,>=1.21.1 in c:\\users\\lenovo\\anaconda3\\lib\\site-packages (from requests>=2.21.0->azure-core>=1.30.0->azure-storage-blob) (2.2.3)\n",
      "Requirement already satisfied: certifi>=2017.4.17 in c:\\users\\lenovo\\anaconda3\\lib\\site-packages (from requests>=2.21.0->azure-core>=1.30.0->azure-storage-blob) (2025.1.31)\n",
      "Downloading azure_storage_blob-12.26.0-py3-none-any.whl (412 kB)\n",
      "Installing collected packages: azure-storage-blob\n",
      "Successfully installed azure-storage-blob-12.26.0\n",
      "Note: you may need to restart the kernel to use updated packages.\n"
     ]
    }
   ],
   "source": [
    "pip install pandas numpy azure-storage-blob openpyxl\n"
   ]
  },
  {
   "cell_type": "code",
   "execution_count": 4,
   "id": "7803492d-90c6-4b57-b411-f0c0f4359d0f",
   "metadata": {},
   "outputs": [
    {
     "name": "stdout",
     "output_type": "stream",
     "text": [
      "                event_time event_type  product_id   category_id  \\\n",
      "0  2019-11-01 00:00:00 UTC       view     1003461  2.053010e+18   \n",
      "1  2019-11-01 00:00:00 UTC       view     5000088  2.053010e+18   \n",
      "2  2019-11-01 00:00:01 UTC       view    17302664  2.053010e+18   \n",
      "3  2019-11-01 00:00:01 UTC       view     3601530  2.053010e+18   \n",
      "4  2019-11-01 00:00:01 UTC       view     1004775  2.053010e+18   \n",
      "\n",
      "               category_code   brand   price    user_id  \\\n",
      "0     electronics.smartphone  xiaomi  489.07  520088904   \n",
      "1  appliances.sewing_machine  janome  293.65  530496790   \n",
      "2                        NaN   creed   28.31  561587266   \n",
      "3  appliances.kitchen.washer      lg  712.87  518085591   \n",
      "4     electronics.smartphone  xiaomi  183.27  558856683   \n",
      "\n",
      "                           user_session  \n",
      "0  4d3b30da-a5e4-49df-b1a8-ba5943f1dd33  \n",
      "1  8e5f4f83-366c-4f70-860e-ca7417414283  \n",
      "2  755422e7-9040-477b-9bd2-6a6e8fd97387  \n",
      "3  3bfb58cd-7892-48cc-8020-2f17e6de6e7f  \n",
      "4  313628f1-68b8-460d-84f6-cec7a8796ef2  \n"
     ]
    }
   ],
   "source": [
    "from azure.storage.blob import BlobServiceClient\n",
    "import pandas as pd\n",
    "import io\n",
    "\n",
    "# Connection string from Azure portal\n",
    "conn_str = \"DefaultEndpointsProtocol=https;AccountName=yashdatalake975;AccountKey=o83A5HSast67/VEqthSqB9ruitlvFCNjmlMPbH/o1hcxn0nwxjnWnaxTqFXJakDpqvC39Mjb18ls+ASt2Hspfg==;EndpointSuffix=core.windows.net\"\n",
    "container_name = \"raw-data\"\n",
    "blob_name = \"2019-Nov.csv\"\n",
    "\n",
    "# Connect to Blob\n",
    "blob_service_client = BlobServiceClient.from_connection_string(conn_str)\n",
    "blob_client = blob_service_client.get_container_client(container_name)\n",
    "\n",
    "# Download blob\n",
    "blob_data = blob_client.download_blob(blob_name)\n",
    "data = pd.read_csv(io.BytesIO(blob_data.readall()))\n",
    "\n",
    "print(data.head())\n"
   ]
  },
  {
   "cell_type": "code",
   "execution_count": 16,
   "id": "a05331a6-2e16-49d0-9fa1-b8b18d83d2a2",
   "metadata": {},
   "outputs": [],
   "source": [
    "# Convert date to datetime format\n",
    "data['event_time'] = pd.to_datetime(data['event_time'])\n",
    "\n",
    "# Filter for only last year’s data\n",
    "data_recent = data[data['event_time'].dt.year == 2019]"
   ]
  },
  {
   "cell_type": "code",
   "execution_count": 18,
   "id": "79e0ef5c-f100-469b-942f-eaaaa6673b4c",
   "metadata": {},
   "outputs": [
    {
     "data": {
      "text/plain": [
       "{'etag': '\"0x8DDD570C8092B54\"',\n",
       " 'last_modified': datetime.datetime(2025, 8, 7, 5, 10, 52, tzinfo=datetime.timezone.utc),\n",
       " 'content_md5': None,\n",
       " 'content_crc64': bytearray(b'\\xa8\\xe4YB\\xc5\\x06\\xfbe'),\n",
       " 'client_request_id': 'e3c1d111-734c-11f0-aca4-ea420ede37d1',\n",
       " 'request_id': '19072bf6-501e-004a-6459-07e888000000',\n",
       " 'version': '2025-07-05',\n",
       " 'version_id': None,\n",
       " 'date': datetime.datetime(2025, 8, 7, 5, 10, 52, tzinfo=datetime.timezone.utc),\n",
       " 'request_server_encrypted': True,\n",
       " 'encryption_key_sha256': None,\n",
       " 'encryption_scope': None}"
      ]
     },
     "execution_count": 18,
     "metadata": {},
     "output_type": "execute_result"
    }
   ],
   "source": [
    "# Convert DataFrame to CSV string\n",
    "csv_data = data_recent.to_csv(index=False)\n",
    "\n",
    "# Upload back to blob\n",
    "output_blob_client = blob_service_client.get_blob_client(container=container_name, blob=\"cleaned_data.csv\")\n",
    "output_blob_client.upload_blob(csv_data, overwrite=True)"
   ]
  },
  {
   "cell_type": "code",
   "execution_count": null,
   "id": "26e23c66-e7fb-44ff-8691-31947ba7b04b",
   "metadata": {},
   "outputs": [],
   "source": []
  }
 ],
 "metadata": {
  "kernelspec": {
   "display_name": "Python [conda env:base] *",
   "language": "python",
   "name": "conda-base-py"
  },
  "language_info": {
   "codemirror_mode": {
    "name": "ipython",
    "version": 3
   },
   "file_extension": ".py",
   "mimetype": "text/x-python",
   "name": "python",
   "nbconvert_exporter": "python",
   "pygments_lexer": "ipython3",
   "version": "3.12.7"
  }
 },
 "nbformat": 4,
 "nbformat_minor": 5
}
